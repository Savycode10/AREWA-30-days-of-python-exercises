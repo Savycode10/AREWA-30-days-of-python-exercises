{
 "cells": [
  {
   "cell_type": "markdown",
   "metadata": {},
   "source": [
    " Exercises - Module 4"
   ]
  },
  {
   "cell_type": "code",
   "execution_count": 2,
   "metadata": {},
   "outputs": [
    {
     "name": "stdout",
     "output_type": "stream",
     "text": [
      "Thirty Days Of Python\n"
     ]
    }
   ],
   "source": [
    "#Concatenate the string 'Thirty', 'Days', 'Of', 'Python' to a single string, 'Thirty Days Of Python'.\n",
    "a = \"Thirty \" + \"Days \" + \"Of \" + \"Python\"\n",
    "print(a)"
   ]
  },
  {
   "cell_type": "code",
   "execution_count": 3,
   "metadata": {},
   "outputs": [
    {
     "name": "stdout",
     "output_type": "stream",
     "text": [
      "Coding For All\n"
     ]
    }
   ],
   "source": [
    "#Concatenate the string 'Coding', 'For' , 'All' to a single string, 'Coding For All'.\n",
    "b = 'Coding ' + 'For ' + 'All'\n",
    "print(b)\n"
   ]
  },
  {
   "cell_type": "code",
   "execution_count": 4,
   "metadata": {},
   "outputs": [
    {
     "name": "stdout",
     "output_type": "stream",
     "text": [
      "Coding For All\n"
     ]
    }
   ],
   "source": [
    "#Alternatively question 2 can be done using this code\n",
    "concat_string = ' '.join(['Coding', 'For', 'All'])\n",
    "print(concat_string)"
   ]
  },
  {
   "cell_type": "code",
   "execution_count": 5,
   "metadata": {},
   "outputs": [],
   "source": [
    "#Declare a variable named company and assign it to an initial value \"Coding For All\".\n",
    "company = \"Coding For All\""
   ]
  },
  {
   "cell_type": "code",
   "execution_count": 6,
   "metadata": {},
   "outputs": [
    {
     "name": "stdout",
     "output_type": "stream",
     "text": [
      "Coding For All\n"
     ]
    }
   ],
   "source": [
    "#Print the variable company using print()\n",
    "print(company)"
   ]
  },
  {
   "cell_type": "code",
   "execution_count": 7,
   "metadata": {},
   "outputs": [
    {
     "name": "stdout",
     "output_type": "stream",
     "text": [
      "The length of the string is : 14\n"
     ]
    }
   ],
   "source": [
    "#Print the length of the company string using len() method and print()\n",
    "print(\"The length of the string is :\" ,len(company))"
   ]
  },
  {
   "cell_type": "code",
   "execution_count": 8,
   "metadata": {},
   "outputs": [
    {
     "name": "stdout",
     "output_type": "stream",
     "text": [
      "CODING FOR ALL\n"
     ]
    }
   ],
   "source": [
    "#Change all the characters to uppercase letters using upper() method.\n",
    "print(company.upper())\n"
   ]
  },
  {
   "cell_type": "code",
   "execution_count": 9,
   "metadata": {},
   "outputs": [
    {
     "name": "stdout",
     "output_type": "stream",
     "text": [
      "coding for all\n"
     ]
    }
   ],
   "source": [
    "#Change all the characters to lowercase letters using lower() method.\n",
    "print(company.lower())"
   ]
  },
  {
   "cell_type": "code",
   "execution_count": 10,
   "metadata": {},
   "outputs": [
    {
     "name": "stdout",
     "output_type": "stream",
     "text": [
      "Capitalize: Coding for all\n",
      "Title Case: Coding For All\n",
      "Swapcase: cODING fOR aLL\n"
     ]
    }
   ],
   "source": [
    "#Use capitalize(), title(), and swapcase() methods\n",
    "print(\"Capitalize:\", company.capitalize())\n",
    "print(\"Title Case:\", company.title())\n",
    "print(\"Swapcase:\", company.swapcase())"
   ]
  },
  {
   "cell_type": "code",
   "execution_count": 11,
   "metadata": {},
   "outputs": [
    {
     "name": "stdout",
     "output_type": "stream",
     "text": [
      " For All\n"
     ]
    }
   ],
   "source": [
    "# Cut (slice) out the first word of \"Coding For All\"\n",
    "first_word_cut = company[6:]  # Starting from index 7 to the end\n",
    "print(first_word_cut)"
   ]
  },
  {
   "cell_type": "code",
   "execution_count": 12,
   "metadata": {},
   "outputs": [
    {
     "name": "stdout",
     "output_type": "stream",
     "text": [
      "Coding For All\n",
      "Index of 'Coding' (using index): 1\n",
      "Index of 'Coding' (using find): 1\n"
     ]
    }
   ],
   "source": [
    "#Check if \"Coding For All\" contains the word \"Coding\"\n",
    "contains_coding_index = company.index(\"o\")\n",
    "contains_coding_find = company.find(\"o\")\n",
    "print(company)\n",
    "print(f\"Index of 'Coding' (using index): {contains_coding_index}\")\n",
    "print(f\"Index of 'Coding' (using find): {contains_coding_find}\")"
   ]
  },
  {
   "cell_type": "code",
   "execution_count": 14,
   "metadata": {},
   "outputs": [
    {
     "name": "stdout",
     "output_type": "stream",
     "text": [
      "Python For All\n"
     ]
    }
   ],
   "source": [
    "# 10. Replace the word \"Coding\" in \"Coding For All\" with \"Python\"\n",
    "replaced_string = company.replace(\"Coding\", \"Python\")\n",
    "print(replaced_string)\n"
   ]
  },
  {
   "cell_type": "code",
   "execution_count": 15,
   "metadata": {},
   "outputs": [
    {
     "name": "stdout",
     "output_type": "stream",
     "text": [
      "Python for All\n"
     ]
    }
   ],
   "source": [
    "#Change Python for Everyone to Python for All using the replace method or other methods.\n",
    "real_str = \"Python for Everyone\"\n",
    "changed_str = real_str.replace(\"Everyone\", \"All\")\n",
    "print(changed_str)\n"
   ]
  },
  {
   "cell_type": "code",
   "execution_count": 16,
   "metadata": {},
   "outputs": [
    {
     "name": "stdout",
     "output_type": "stream",
     "text": [
      "Split string 'Coding For All': ['Coding', 'For', 'All']\n"
     ]
    }
   ],
   "source": [
    "#Split the string 'Coding For All' using space as the separator\n",
    "split_coding_for_all = \"Coding For All\".split()\n",
    "print(\"Split string 'Coding For All':\", split_coding_for_all)"
   ]
  },
  {
   "cell_type": "code",
   "execution_count": 18,
   "metadata": {},
   "outputs": [
    {
     "name": "stdout",
     "output_type": "stream",
     "text": [
      "Split companies: ['Facebook', 'Google', 'Microsoft', 'Apple', 'IBM', 'Oracle', 'Amazon']\n"
     ]
    }
   ],
   "source": [
    "#Split \"Facebook, Google, Microsoft, Apple, IBM, Oracle, Amazon\" at the comma\n",
    "split_companies = \"Facebook, Google, Microsoft, Apple, IBM, Oracle, Amazon\".split(\", \")\n",
    "print(\"Split companies:\", split_companies)\n"
   ]
  },
  {
   "cell_type": "code",
   "execution_count": 19,
   "metadata": {},
   "outputs": [
    {
     "name": "stdout",
     "output_type": "stream",
     "text": [
      "Character at index 0: C\n"
     ]
    }
   ],
   "source": [
    "#Character at index 0 in 'Coding For All'\n",
    "char_at_index_0 = \"Coding For All\"[0]\n",
    "print(\"Character at index 0:\", char_at_index_0)"
   ]
  },
  {
   "cell_type": "code",
   "execution_count": 27,
   "metadata": {},
   "outputs": [
    {
     "name": "stdout",
     "output_type": "stream",
     "text": [
      "l\n"
     ]
    }
   ],
   "source": [
    "last_index = company[-1]\n",
    "print(last_index)"
   ]
  },
  {
   "cell_type": "code",
   "execution_count": 36,
   "metadata": {},
   "outputs": [
    {
     "name": "stdout",
     "output_type": "stream",
     "text": [
      "Character at index 10:  \n"
     ]
    }
   ],
   "source": [
    "# Character at index 10 in 'Coding For All'\n",
    "char_at_index_10 = company[10]\n",
    "print(\"Character at index 10:\", char_at_index_10)\n"
   ]
  },
  {
   "cell_type": "code",
   "execution_count": 37,
   "metadata": {},
   "outputs": [
    {
     "name": "stdout",
     "output_type": "stream",
     "text": [
      "Acronym for 'Python For Everyone': PFE\n"
     ]
    }
   ],
   "source": [
    "# Create an acronym or abbreviation for 'Python For Everyone'\n",
    "acronym_python_for_everyone = ''.join([word[0] for word in \"Python For Everyone\".split()]).upper()\n",
    "print(\"Acronym for 'Python For Everyone':\", acronym_python_for_everyone)"
   ]
  },
  {
   "cell_type": "code",
   "execution_count": 38,
   "metadata": {},
   "outputs": [
    {
     "name": "stdout",
     "output_type": "stream",
     "text": [
      "Acronym for 'Coding For All': CFA\n"
     ]
    }
   ],
   "source": [
    "# Create an acronym or abbreviation for 'Coding For All'\n",
    "acronym_coding_for_all = ''.join([word[0] for word in \"Coding For All\".split()]).upper()\n",
    "print(\"Acronym for 'Coding For All':\", acronym_coding_for_all)"
   ]
  },
  {
   "cell_type": "code",
   "execution_count": 39,
   "metadata": {},
   "outputs": [
    {
     "name": "stdout",
     "output_type": "stream",
     "text": [
      "Acronym for 'Coding For All': CFA\n"
     ]
    }
   ],
   "source": [
    "# Create an acronym or abbreviation for 'Coding For All'\n",
    "phrase = \"Coding For All\"\n",
    "acronym = \"\"\n",
    "for word in phrase.split():\n",
    "    acronym += word[0].upper()\n",
    "print(\"Acronym for 'Coding For All':\", acronym)"
   ]
  },
  {
   "cell_type": "code",
   "execution_count": 40,
   "metadata": {},
   "outputs": [
    {
     "name": "stdout",
     "output_type": "stream",
     "text": [
      "Last index of 'l': 19\n"
     ]
    }
   ],
   "source": [
    "# Use rfind to determine the position of the last occurrence of 'l' in 'Coding For All People'\n",
    "last_index_of_l = \"Coding For All People\".rfind('l')\n",
    "print(\"Last index of 'l':\", last_index_of_l)"
   ]
  },
  {
   "cell_type": "code",
   "execution_count": 41,
   "metadata": {},
   "outputs": [
    {
     "name": "stdout",
     "output_type": "stream",
     "text": [
      "First index of 'because': 31\n"
     ]
    }
   ],
   "source": [
    "# Use index or find to find the position of the first occurrence of 'because'\n",
    "sentence = \"You cannot end a sentence with because because because is a conjunction\"\n",
    "first_index_because = sentence.find('because')\n",
    "print(\"First index of 'because':\", first_index_because)"
   ]
  },
  {
   "cell_type": "code",
   "execution_count": 42,
   "metadata": {},
   "outputs": [
    {
     "name": "stdout",
     "output_type": "stream",
     "text": [
      "Last index of 'because': 47\n"
     ]
    }
   ],
   "source": [
    "# Use rindex to find the position of the last occurrence of 'because'\n",
    "last_index_because = sentence.rindex('because')\n",
    "print(\"Last index of 'because':\", last_index_because)\n"
   ]
  },
  {
   "cell_type": "code",
   "execution_count": 43,
   "metadata": {},
   "outputs": [
    {
     "name": "stdout",
     "output_type": "stream",
     "text": [
      "Sliced phrase: because because because\n"
     ]
    }
   ],
   "source": [
    "# Slice out the phrase 'because because because'\n",
    "phrase_to_slice = sentence[first_index_because:last_index_because + len('because')]\n",
    "print(\"Sliced phrase:\", phrase_to_slice)\n"
   ]
  },
  {
   "cell_type": "code",
   "execution_count": 44,
   "metadata": {},
   "outputs": [
    {
     "name": "stdout",
     "output_type": "stream",
     "text": [
      "Does 'Coding For All' start with 'Coding'? True\n"
     ]
    }
   ],
   "source": [
    "# Check if 'Coding For All' starts with 'Coding'\n",
    "starts_with_coding = \"Coding For All\".startswith(\"Coding\")\n",
    "print(\"Does 'Coding For All' start with 'Coding'?\", starts_with_coding)"
   ]
  },
  {
   "cell_type": "code",
   "execution_count": 45,
   "metadata": {},
   "outputs": [
    {
     "name": "stdout",
     "output_type": "stream",
     "text": [
      "Does 'Coding For All' end with 'coding'? False\n"
     ]
    }
   ],
   "source": [
    "# Check if 'Coding For All' ends with 'coding'\n",
    "ends_with_coding = \"Coding For All\".endswith(\"coding\")\n",
    "print(\"Does 'Coding For All' end with 'coding'?\", ends_with_coding)"
   ]
  },
  {
   "cell_type": "code",
   "execution_count": 46,
   "metadata": {},
   "outputs": [
    {
     "name": "stdout",
     "output_type": "stream",
     "text": [
      "False\n",
      "True\n"
     ]
    }
   ],
   "source": [
    "var1 = \"30DaysOfPython\"\n",
    "var2 = \"thirty_days_of_python\"\n",
    "\n",
    "print(var1.isidentifier())  # False\n",
    "print(var2.isidentifier())  # True\n"
   ]
  },
  {
   "cell_type": "code",
   "execution_count": 47,
   "metadata": {},
   "outputs": [
    {
     "name": "stdout",
     "output_type": "stream",
     "text": [
      "Django # Flask # Bottle # Pyramid # Falcon\n"
     ]
    }
   ],
   "source": [
    "libraries = ['Django', 'Flask', 'Bottle', 'Pyramid', 'Falcon']\n",
    "joined_libraries = ' # '.join(libraries)\n",
    "print(joined_libraries)\n"
   ]
  },
  {
   "cell_type": "code",
   "execution_count": 48,
   "metadata": {},
   "outputs": [
    {
     "name": "stdout",
     "output_type": "stream",
     "text": [
      "I am enjoying this challenge.\n",
      "I just wonder what is next.\n"
     ]
    }
   ],
   "source": [
    "text = \"I am enjoying this challenge.\\nI just wonder what is next.\"\n",
    "print(text)\n"
   ]
  },
  {
   "cell_type": "code",
   "execution_count": 56,
   "metadata": {},
   "outputs": [
    {
     "name": "stdout",
     "output_type": "stream",
     "text": [
      "Name\t\tAge\tCountry\tCity\n",
      "Asabeneh\t250\tFinland\tHelsinki\n",
      "Saviour\t\t27\tNigeria\tLagos\n"
     ]
    }
   ],
   "source": [
    "text = \"Name\\t\\tAge\\tCountry\\tCity\\nAsabeneh\\t250\\tFinland\\tHelsinki\\nSaviour\\t\\t27\\tNigeria\\tLagos\"\n",
    "print(text)\n"
   ]
  },
  {
   "cell_type": "code",
   "execution_count": 51,
   "metadata": {},
   "outputs": [
    {
     "name": "stdout",
     "output_type": "stream",
     "text": [
      "The area of a circle with radius 10 is 314 meters square.\n"
     ]
    }
   ],
   "source": [
    "radius = 10\n",
    "area = 3.14 * radius ** 2\n",
    "area = int(area)\n",
    "\n",
    "print(f\"The area of a circle with radius {radius} is {area} meters square.\")"
   ]
  },
  {
   "cell_type": "code",
   "execution_count": 52,
   "metadata": {},
   "outputs": [
    {
     "name": "stdout",
     "output_type": "stream",
     "text": [
      "8 + 6 = 14\n",
      "8 - 6 = 2\n",
      "8 * 6 = 48\n",
      "8 / 6 = 1.33\n",
      "8 % 6 = 2\n",
      "8 // 6 = 1\n",
      "8 ** 6 = 262144\n"
     ]
    }
   ],
   "source": [
    "a, b = 8, 6\n",
    "print(f\"{a} + {b} = {a + b}\")\n",
    "print(f\"{a} - {b} = {a - b}\")\n",
    "print(f\"{a} * {b} = {a * b}\")\n",
    "print(f\"{a} / {b} = {a / b:.2f}\")\n",
    "print(f\"{a} % {b} = {a % b}\")\n",
    "print(f\"{a} // {b} = {a // b}\")\n",
    "print(f\"{a} ** {b} = {a ** b}\")\n"
   ]
  }
 ],
 "metadata": {
  "kernelspec": {
   "display_name": "base",
   "language": "python",
   "name": "python3"
  },
  "language_info": {
   "codemirror_mode": {
    "name": "ipython",
    "version": 3
   },
   "file_extension": ".py",
   "mimetype": "text/x-python",
   "name": "python",
   "nbconvert_exporter": "python",
   "pygments_lexer": "ipython3",
   "version": "3.11.7"
  }
 },
 "nbformat": 4,
 "nbformat_minor": 2
}
