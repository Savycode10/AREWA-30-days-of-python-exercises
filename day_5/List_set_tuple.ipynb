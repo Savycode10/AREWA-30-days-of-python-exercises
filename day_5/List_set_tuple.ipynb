{
 "cells": [
  {
   "cell_type": "markdown",
   "metadata": {},
   "source": [
    "Exercises: Level 1"
   ]
  },
  {
   "cell_type": "code",
   "execution_count": 1,
   "metadata": {},
   "outputs": [],
   "source": [
    "#Declare an empty list\n",
    "empty_list = []"
   ]
  },
  {
   "cell_type": "code",
   "execution_count": 2,
   "metadata": {},
   "outputs": [],
   "source": [
    "#Declare a list with more than 5 items\n",
    "family = [\"Joseph\", \"Goodness\", \"Promise\", \"Glory\", \"Mercy\"]\n"
   ]
  },
  {
   "cell_type": "code",
   "execution_count": 3,
   "metadata": {},
   "outputs": [
    {
     "name": "stdout",
     "output_type": "stream",
     "text": [
      "5\n"
     ]
    }
   ],
   "source": [
    "#Find the length of your list\n",
    "no_of_family = len(family)\n",
    "print(no_of_family)"
   ]
  },
  {
   "cell_type": "code",
   "execution_count": 4,
   "metadata": {},
   "outputs": [
    {
     "data": {
      "text/plain": [
       "['Joseph', 'Promise', 'Mercy']"
      ]
     },
     "execution_count": 4,
     "metadata": {},
     "output_type": "execute_result"
    }
   ],
   "source": [
    "#Get the first item, the middle item and the last item of the list\n",
    "family[::2]"
   ]
  },
  {
   "cell_type": "code",
   "execution_count": 5,
   "metadata": {},
   "outputs": [],
   "source": [
    "#Declare a list called mixed_data_types, put your(name, age, height, marital status, address)\n",
    "mixed_data_types = [\"Saviour\", 27, 1.75, \"Single\", \"Lagos, Nigeria\"]"
   ]
  },
  {
   "cell_type": "code",
   "execution_count": 6,
   "metadata": {},
   "outputs": [
    {
     "name": "stdout",
     "output_type": "stream",
     "text": [
      "['Facebook', 'Google', 'Microsoft', 'Apple', 'IBM', 'Oracle', 'Amazon']\n"
     ]
    }
   ],
   "source": [
    "\n",
    "it_companies = [\"Facebook\", \"Google\", \"Microsoft\", \"Apple\", \"IBM\", \"Oracle\",\"Amazon\"]\n",
    "print(it_companies)"
   ]
  },
  {
   "cell_type": "code",
   "execution_count": 7,
   "metadata": {},
   "outputs": [
    {
     "name": "stdout",
     "output_type": "stream",
     "text": [
      "['Facebook', 'Microsoft', 'IBM', 'Amazon']\n"
     ]
    }
   ],
   "source": [
    "#Print the first, middle and last company\n",
    "print(it_companies[::2])"
   ]
  },
  {
   "cell_type": "code",
   "execution_count": 8,
   "metadata": {},
   "outputs": [
    {
     "name": "stdout",
     "output_type": "stream",
     "text": [
      "['PWC', 'Google', 'Microsoft', 'Apple', 'IBM', 'Oracle', 'Amazon']\n"
     ]
    }
   ],
   "source": [
    "#Print the list after modifying one of the companies\n",
    "it_companies[0] = \"PWC\"\n",
    "print(it_companies)"
   ]
  },
  {
   "cell_type": "code",
   "execution_count": 9,
   "metadata": {},
   "outputs": [
    {
     "name": "stdout",
     "output_type": "stream",
     "text": [
      "['PWC', 'Google', 'Microsoft', 'Apple', 'IBM', 'Oracle', 'Amazon', 'Accenture']\n"
     ]
    }
   ],
   "source": [
    "#Add an IT company to it_companies\n",
    "it_companies.append(\"Accenture\")\n",
    "print(it_companies)"
   ]
  },
  {
   "cell_type": "code",
   "execution_count": 10,
   "metadata": {},
   "outputs": [
    {
     "name": "stdout",
     "output_type": "stream",
     "text": [
      "['PWC', 'Google', 'Microsoft', 'Apple', 'Forage', 'IBM', 'Oracle', 'Amazon', 'Accenture']\n"
     ]
    }
   ],
   "source": [
    "#Insert an IT company in the middle of the companies list\n",
    "it_companies.insert(4, 'Forage')\n",
    "print(it_companies)"
   ]
  },
  {
   "cell_type": "code",
   "execution_count": 14,
   "metadata": {},
   "outputs": [
    {
     "name": "stdout",
     "output_type": "stream",
     "text": [
      "['PWC', 'GOOGLE', 'Microsoft', 'Apple', 'Forage', 'IBM', 'Oracle', 'Amazon', 'Accenture']\n"
     ]
    }
   ],
   "source": [
    "#Change one of the it_companies names to uppercase (IBM excluded!)\n",
    "it_companies[1] = it_companies[1].upper()\n",
    "print(it_companies)"
   ]
  },
  {
   "cell_type": "code",
   "execution_count": 16,
   "metadata": {},
   "outputs": [
    {
     "name": "stdout",
     "output_type": "stream",
     "text": [
      "PWC#; GOOGLE#; Microsoft#; Apple#; Forage#; IBM#; Oracle#; Amazon#; Accenture\n"
     ]
    }
   ],
   "source": [
    "#join the it_companies with a string '#;  '\n",
    "joined_companies = '#; '.join(it_companies)\n",
    "print(joined_companies)"
   ]
  },
  {
   "cell_type": "code",
   "execution_count": 17,
   "metadata": {},
   "outputs": [
    {
     "name": "stdout",
     "output_type": "stream",
     "text": [
      "True\n"
     ]
    }
   ],
   "source": [
    "#Check if a certain company exists in the it_companies list.\n",
    "if \"Apple\" in it_companies:\n",
    "    print(\"True\")\n",
    "else:\n",
    "    print(\"False\")"
   ]
  },
  {
   "cell_type": "code",
   "execution_count": null,
   "metadata": {},
   "outputs": [],
   "source": [
    "# Sort the list using sort()\n",
    "it_companies.sort()"
   ]
  },
  {
   "cell_type": "code",
   "execution_count": null,
   "metadata": {},
   "outputs": [],
   "source": [
    "# Reverse the list in descending order using reverse()\n",
    "it_companies.reverse()\n",
    "print(\"List in descending order:\", it_companies)"
   ]
  },
  {
   "cell_type": "code",
   "execution_count": 21,
   "metadata": {},
   "outputs": [
    {
     "name": "stdout",
     "output_type": "stream",
     "text": [
      "First 3 companies: ['Accenture', 'Amazon', 'Apple']\n"
     ]
    }
   ],
   "source": [
    "# Slice out the first 3 companies\n",
    "first_three = it_companies[:3]\n",
    "print(\"First 3 companies:\", first_three)"
   ]
  },
  {
   "cell_type": "code",
   "execution_count": 22,
   "metadata": {},
   "outputs": [
    {
     "name": "stdout",
     "output_type": "stream",
     "text": [
      "Last 3 companies: ['Microsoft', 'Oracle', 'PWC']\n"
     ]
    }
   ],
   "source": [
    "# Slice out the last 3 companies\n",
    "last_three = it_companies[-3:]\n",
    "print(\"Last 3 companies:\", last_three)\n"
   ]
  },
  {
   "cell_type": "code",
   "execution_count": 23,
   "metadata": {},
   "outputs": [
    {
     "name": "stdout",
     "output_type": "stream",
     "text": [
      "Middle IT company/companies: ['GOOGLE']\n"
     ]
    }
   ],
   "source": [
    "# Slice out the middle IT company or companies\n",
    "length = len(it_companies)\n",
    "if length % 2 == 1:\n",
    "    middle_companies = [it_companies[length // 2]]  # One middle company\n",
    "else:\n",
    "    middle_companies = it_companies[length // 2 - 1:length // 2 + 1]  # Two middle companies\n",
    "print(\"Middle IT company/companies:\", middle_companies)"
   ]
  },
  {
   "cell_type": "code",
   "execution_count": 24,
   "metadata": {},
   "outputs": [
    {
     "name": "stdout",
     "output_type": "stream",
     "text": [
      "List after removing the first company: ['Amazon', 'Apple', 'Forage', 'GOOGLE', 'IBM', 'Microsoft', 'Oracle', 'PWC']\n"
     ]
    }
   ],
   "source": [
    "# Remove the first IT company from the list\n",
    "it_companies.pop(0)\n",
    "print(\"List after removing the first company:\", it_companies)"
   ]
  },
  {
   "cell_type": "code",
   "execution_count": 25,
   "metadata": {},
   "outputs": [
    {
     "name": "stdout",
     "output_type": "stream",
     "text": [
      "List after removing the middle company/companies: ['Amazon', 'Apple', 'Forage', 'Microsoft', 'Oracle', 'PWC']\n"
     ]
    }
   ],
   "source": [
    "# Remove the middle IT company or companies from the list\n",
    "length = len(it_companies)\n",
    "if length % 2 == 1:\n",
    "    it_companies.pop(length // 2)  # Remove the one middle company\n",
    "else:\n",
    "    del it_companies[length // 2 - 1:length // 2 + 1]  # Remove two middle companies\n",
    "print(\"List after removing the middle company/companies:\", it_companies)"
   ]
  },
  {
   "cell_type": "code",
   "execution_count": 26,
   "metadata": {},
   "outputs": [
    {
     "name": "stdout",
     "output_type": "stream",
     "text": [
      "List after removing the last company: ['Amazon', 'Apple', 'Forage', 'Microsoft', 'Oracle']\n"
     ]
    }
   ],
   "source": [
    "# Remove the last IT company from the list\n",
    "it_companies.pop()\n",
    "print(\"List after removing the last company:\", it_companies)\n"
   ]
  },
  {
   "cell_type": "code",
   "execution_count": 27,
   "metadata": {},
   "outputs": [
    {
     "name": "stdout",
     "output_type": "stream",
     "text": [
      "List after removing all companies: []\n"
     ]
    }
   ],
   "source": [
    "# Remove all IT companies from the list\n",
    "it_companies.clear()\n",
    "print(\"List after removing all companies:\", it_companies)"
   ]
  },
  {
   "cell_type": "code",
   "execution_count": 28,
   "metadata": {},
   "outputs": [
    {
     "name": "stdout",
     "output_type": "stream",
     "text": [
      "IT companies list destroyed.\n"
     ]
    }
   ],
   "source": [
    "# Destroy the IT companies list\n",
    "del it_companies\n",
    "print(\"IT companies list destroyed.\")"
   ]
  },
  {
   "cell_type": "code",
   "execution_count": 34,
   "metadata": {},
   "outputs": [],
   "source": [
    "front_end = ['HTML', 'CSS', 'JS', 'React', 'Redux']\n",
    "back_end = ['Node','Express', 'MongoDB']\n",
    "front_end.extend(back_end)"
   ]
  },
  {
   "cell_type": "code",
   "execution_count": 35,
   "metadata": {},
   "outputs": [
    {
     "name": "stdout",
     "output_type": "stream",
     "text": [
      "['HTML', 'CSS', 'JS', 'React', 'Redux', 'Node', 'Express', 'MongoDB']\n"
     ]
    }
   ],
   "source": [
    "fullstack = front_end\n",
    "print(fullstack)"
   ]
  },
  {
   "cell_type": "code",
   "execution_count": 37,
   "metadata": {},
   "outputs": [
    {
     "name": "stdout",
     "output_type": "stream",
     "text": [
      "['HTML', 'CSS', 'JS', 'React', 'Redux', 'Node', 'Express', 'MongoDB', ['python', 'SQL']]\n"
     ]
    }
   ],
   "source": [
    "print(fullstack)"
   ]
  },
  {
   "cell_type": "markdown",
   "metadata": {},
   "source": [
    "Exercises: Level 2"
   ]
  },
  {
   "cell_type": "code",
   "execution_count": 39,
   "metadata": {},
   "outputs": [],
   "source": [
    "ages = [19, 22, 19, 24, 20, 25, 26, 24, 25, 24]"
   ]
  },
  {
   "cell_type": "code",
   "execution_count": 40,
   "metadata": {},
   "outputs": [],
   "source": [
    "ages.sort()"
   ]
  },
  {
   "cell_type": "code",
   "execution_count": 46,
   "metadata": {},
   "outputs": [
    {
     "name": "stdout",
     "output_type": "stream",
     "text": [
      "Minimum age 19\n",
      "Maximum age 26\n"
     ]
    }
   ],
   "source": [
    "a,b = ages[0], ages[-1] #Maximum age, #Minimum age \n",
    "print(\"Minimum age\", a)\n",
    "print(\"Maximum age\", b)"
   ]
  },
  {
   "cell_type": "code",
   "execution_count": 47,
   "metadata": {},
   "outputs": [
    {
     "name": "stdout",
     "output_type": "stream",
     "text": [
      "Minimum age: 19\n",
      "Maximum age: 26\n"
     ]
    }
   ],
   "source": [
    "# Find the minimum and maximum age\n",
    "min_age = min(ages)\n",
    "max_age = max(ages)\n",
    "print(\"Minimum age:\", min_age)\n",
    "print(\"Maximum age:\", max_age)"
   ]
  },
  {
   "cell_type": "code",
   "execution_count": 48,
   "metadata": {},
   "outputs": [
    {
     "name": "stdout",
     "output_type": "stream",
     "text": [
      "List after adding min and max ages: [19, 19, 20, 22, 24, 24, 24, 25, 25, 26, 19, 26]\n"
     ]
    }
   ],
   "source": [
    "# Add the minimum and maximum age again to the list\n",
    "ages.append(min_age)\n",
    "ages.append(max_age)\n",
    "print(\"List after adding min and max ages:\", ages)"
   ]
  },
  {
   "cell_type": "code",
   "execution_count": 49,
   "metadata": {},
   "outputs": [
    {
     "name": "stdout",
     "output_type": "stream",
     "text": [
      "Median age: 24.0\n"
     ]
    }
   ],
   "source": [
    "length = len(ages)\n",
    "if length % 2 == 0:  # Even number of items\n",
    "    median_age = (ages[length // 2 - 1] + ages[length // 2]) / 2\n",
    "else:  # Odd number of items\n",
    "    median_age = ages[length // 2]\n",
    "print(\"Median age:\", median_age)"
   ]
  },
  {
   "cell_type": "code",
   "execution_count": 50,
   "metadata": {},
   "outputs": [
    {
     "name": "stdout",
     "output_type": "stream",
     "text": [
      "Average age: 22.75\n"
     ]
    }
   ],
   "source": [
    "# Find the average age\n",
    "average_age = sum(ages) / length\n",
    "print(\"Average age:\", average_age)\n"
   ]
  },
  {
   "cell_type": "code",
   "execution_count": 51,
   "metadata": {},
   "outputs": [
    {
     "name": "stdout",
     "output_type": "stream",
     "text": [
      "Age range: 7\n"
     ]
    }
   ],
   "source": [
    "# Find the range of the ages\n",
    "age_range = max(ages) - min(ages)\n",
    "print(\"Age range:\", age_range)\n"
   ]
  },
  {
   "cell_type": "code",
   "execution_count": 52,
   "metadata": {},
   "outputs": [
    {
     "name": "stdout",
     "output_type": "stream",
     "text": [
      "Absolute difference between min and average: 3.75\n",
      "Absolute difference between max and average: 3.25\n"
     ]
    }
   ],
   "source": [
    "# Compare (min - average) and (max - average) using abs()\n",
    "min_diff = abs(min(ages) - average_age)\n",
    "max_diff = abs(max(ages) - average_age)\n",
    "print(\"Absolute difference between min and average:\", min_diff)\n",
    "print(\"Absolute difference between max and average:\", max_diff)"
   ]
  },
  {
   "cell_type": "code",
   "execution_count": null,
   "metadata": {},
   "outputs": [],
   "source": []
  }
 ],
 "metadata": {
  "kernelspec": {
   "display_name": "base",
   "language": "python",
   "name": "python3"
  },
  "language_info": {
   "codemirror_mode": {
    "name": "ipython",
    "version": 3
   },
   "file_extension": ".py",
   "mimetype": "text/x-python",
   "name": "python",
   "nbconvert_exporter": "python",
   "pygments_lexer": "ipython3",
   "version": "3.11.7"
  }
 },
 "nbformat": 4,
 "nbformat_minor": 2
}
