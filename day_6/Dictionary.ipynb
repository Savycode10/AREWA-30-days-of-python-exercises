{
 "cells": [
  {
   "cell_type": "code",
   "execution_count": null,
   "metadata": {},
   "outputs": [],
   "source": [
    " Exercises: Module 6"
   ]
  },
  {
   "cell_type": "code",
   "execution_count": 2,
   "metadata": {},
   "outputs": [],
   "source": [
    "# Step 1: Create an empty dictionary called dog\n",
    "dog = {}"
   ]
  },
  {
   "cell_type": "code",
   "execution_count": 4,
   "metadata": {},
   "outputs": [
    {
     "name": "stdout",
     "output_type": "stream",
     "text": [
      "Dog dictionary: {'name': 'Buddy', 'color': 'Brown', 'breed': 'Labrador', 'legs': 4, 'age': 3}\n"
     ]
    }
   ],
   "source": [
    "# Add name, color, breed, legs, and age to the dog dictionary\n",
    "dog[\"name\"] = \"Buddy\"\n",
    "dog[\"color\"] = \"Brown\"\n",
    "dog[\"breed\"] = \"Labrador\"\n",
    "dog[\"legs\"] = 4\n",
    "dog[\"age\"] = 3\n",
    "\n",
    "print(\"Dog dictionary:\", dog)"
   ]
  },
  {
   "cell_type": "code",
   "execution_count": 5,
   "metadata": {},
   "outputs": [],
   "source": [
    "#Create a student dictionary\n",
    "student = {\n",
    "    \"first_name\": \"John\",\n",
    "    \"last_name\": \"Doe\",\n",
    "    \"gender\": \"Male\",\n",
    "    \"age\": 25,\n",
    "    \"marital_status\": \"Single\",\n",
    "    \"skills\": [\"Python\", \"Data Analysis\"],\n",
    "    \"country\": \"USA\",\n",
    "    \"city\": \"New York\",\n",
    "    \"address\": \"123 Main St\",\n",
    "}"
   ]
  },
  {
   "cell_type": "code",
   "execution_count": 6,
   "metadata": {},
   "outputs": [
    {
     "name": "stdout",
     "output_type": "stream",
     "text": [
      "Length of student dictionary: 9\n"
     ]
    }
   ],
   "source": [
    "# Get the length of the student dictionary\n",
    "print(\"Length of student dictionary:\", len(student))"
   ]
  },
  {
   "cell_type": "code",
   "execution_count": 7,
   "metadata": {},
   "outputs": [
    {
     "name": "stdout",
     "output_type": "stream",
     "text": [
      "Skills: ['Python', 'Data Analysis']\n",
      "Data type of skills: <class 'list'>\n"
     ]
    }
   ],
   "source": [
    "# Get the value of skills and check the data type\n",
    "skills = student[\"skills\"]\n",
    "print(\"Skills:\", skills)\n",
    "print(\"Data type of skills:\", type(skills))"
   ]
  },
  {
   "cell_type": "code",
   "execution_count": 10,
   "metadata": {},
   "outputs": [
    {
     "data": {
      "text/plain": [
       "dict_values(['John', 'Doe', 'Male', 25, 'Single', ['Python', 'Data Analysis'], 'USA', 'New York', '123 Main St'])"
      ]
     },
     "execution_count": 10,
     "metadata": {},
     "output_type": "execute_result"
    }
   ],
   "source": [
    "student.values()"
   ]
  },
  {
   "cell_type": "code",
   "execution_count": 11,
   "metadata": {},
   "outputs": [
    {
     "name": "stdout",
     "output_type": "stream",
     "text": [
      "Updated skills: ['Python', 'Data Analysis', 'Machine Learning', 'SQL']\n"
     ]
    }
   ],
   "source": [
    "#Modify the skills values by adding one or two skills\n",
    "student[\"skills\"].extend([\"Machine Learning\", \"SQL\"])\n",
    "print(\"Updated skills:\", student[\"skills\"])"
   ]
  },
  {
   "cell_type": "code",
   "execution_count": 12,
   "metadata": {},
   "outputs": [
    {
     "name": "stdout",
     "output_type": "stream",
     "text": [
      "Dictionary keys: ['first_name', 'last_name', 'gender', 'age', 'marital_status', 'skills', 'country', 'city', 'address']\n"
     ]
    }
   ],
   "source": [
    "#Get the dictionary keys as a list\n",
    "keys = list(student.keys())\n",
    "print(\"Dictionary keys:\", keys)"
   ]
  },
  {
   "cell_type": "code",
   "execution_count": 13,
   "metadata": {},
   "outputs": [
    {
     "name": "stdout",
     "output_type": "stream",
     "text": [
      "Dictionary values: ['John', 'Doe', 'Male', 25, 'Single', ['Python', 'Data Analysis', 'Machine Learning', 'SQL'], 'USA', 'New York', '123 Main St']\n"
     ]
    }
   ],
   "source": [
    "# Get the dictionary values as a list\n",
    "values = list(student.values())\n",
    "print(\"Dictionary values:\", values)"
   ]
  },
  {
   "cell_type": "code",
   "execution_count": 14,
   "metadata": {},
   "outputs": [
    {
     "name": "stdout",
     "output_type": "stream",
     "text": [
      "List of tuples: [('first_name', 'John'), ('last_name', 'Doe'), ('gender', 'Male'), ('age', 25), ('marital_status', 'Single'), ('skills', ['Python', 'Data Analysis', 'Machine Learning', 'SQL']), ('country', 'USA'), ('city', 'New York'), ('address', '123 Main St')]\n"
     ]
    }
   ],
   "source": [
    "# Change the dictionary to a list of tuples using items() method\n",
    "student_items = list(student.items())\n",
    "print(\"List of tuples:\", student_items)\n"
   ]
  },
  {
   "cell_type": "code",
   "execution_count": 15,
   "metadata": {},
   "outputs": [
    {
     "name": "stdout",
     "output_type": "stream",
     "text": [
      "After deleting 'marital_status': {'first_name': 'John', 'last_name': 'Doe', 'gender': 'Male', 'age': 25, 'skills': ['Python', 'Data Analysis', 'Machine Learning', 'SQL'], 'country': 'USA', 'city': 'New York', 'address': '123 Main St'}\n"
     ]
    }
   ],
   "source": [
    "# Delete one of the items in the dictionary\n",
    "student.pop(\"marital_status\")  # Example: Removing \"marital_status\"\n",
    "print(\"After deleting 'marital_status':\", student)"
   ]
  },
  {
   "cell_type": "code",
   "execution_count": 16,
   "metadata": {},
   "outputs": [],
   "source": [
    "#Delete one of the dictionaries\n",
    "del dog  # Deleting the dog dictionary"
   ]
  }
 ],
 "metadata": {
  "kernelspec": {
   "display_name": "base",
   "language": "python",
   "name": "python3"
  },
  "language_info": {
   "codemirror_mode": {
    "name": "ipython",
    "version": 3
   },
   "file_extension": ".py",
   "mimetype": "text/x-python",
   "name": "python",
   "nbconvert_exporter": "python",
   "pygments_lexer": "ipython3",
   "version": "3.11.7"
  }
 },
 "nbformat": 4,
 "nbformat_minor": 2
}
